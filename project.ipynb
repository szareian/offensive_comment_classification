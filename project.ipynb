{
 "cells": [
  {
   "cell_type": "markdown",
   "metadata": {
    "_cell_guid": "9d2dbdb3-6c74-4f96-9865-2951dfd653ce",
    "_uuid": "bb41ad86b25fecf332927b0c8f55dd710101e33f",
    "colab_type": "text",
    "id": "0zYuZv5fKV4n"
   },
   "source": [
    "# Offensive Word Classification\n",
    "\n"
   ]
  },
  {
   "cell_type": "markdown",
   "metadata": {
    "colab_type": "text",
    "id": "o5Mh4fDB7TDy"
   },
   "source": [
    "# Motivation\n",
    "\n",
    "With the rise of social media in our everyday life and the lack of filters for offensive words, we are susceptible to running into offensive words every now and then. This may not be an issue to an adult, but for an underage individual this may not be an appropriate environment to be in. With ideas gathered from multiple papers, our group would like to implement an algorithm that will aid in minimizing offensive words with noise in comments for the term project. In natural language processing, this task falls under what is called a classification task. Moreover, the aspects of this problem that we plan to work on are both in attempting to improve the accuracy of classification and interpret-ability of offensive words with noise in online comments. Offensive words with noise were chosen because malicious users may find clever ways around moderation by using variations of spellings or character replacement for offensive words."
   ]
  },
  {
   "cell_type": "markdown",
   "metadata": {
    "colab_type": "text",
    "id": "Dcs419Xw7bdD"
   },
   "source": [
    "# Approach\n",
    "For multi-class classification, our approach uses GloVe word embeddings for the embedding layer of our denoising model. Moreover, our denoising model utilizes the recurrent neural networks architecture known as a bi-directional LSTM model.\n",
    "![alt text](https://camo.githubusercontent.com/7c17fdb1a2a5f7d0b896c44aefe7490c47d23bfa/68747470733a2f2f7777772e64726f70626f782e636f6d2f732f696e63646a727575347839323038332f6269646972656374696f6e616c5f6c6f6e675f73686f72742d7465726d5f6d656d6f72792e706e673f7261773d31)\n",
    "To add noise to the test data we used optical character recognition (OCR) error. Specifically, the OCRAug function from the nlpaug package. OCRAug replaces target characters with characters in a predefined mapping table.\n",
    "<br><br>Example of clean vs noisy sentence\n",
    "*   Clean: \"The quick brown fox jumped over the lazy dog\"\n",
    "*   Noisy: \"The qoick 6rown f0x jomped ovek the la2y d0g\"\n",
    "To deal with the noise in the training data we used the same methodologies that we learned from homework three (robust phrasal chunking). We generated character level representation of a word using the following method:\n",
    "1.   Create a one-hot vector v1 for the first character of the word.\n",
    "2.   Create a vector v2 where the index of a character has the count of that character in the word.\n",
    "3.   Create a one-hot vector v3 for the last character of the word.\n",
    "\n",
    "We concatenated 300-dim one-hot vector with the 50-dim embedding matrix, which was applied to our denoising model with two epochs. As an optimizer, we used a stochastic gradient descent optimizer (SGD)"
   ]
  },
  {
   "cell_type": "markdown",
   "metadata": {
    "colab_type": "text",
    "id": "jFW_CVCr6YwG"
   },
   "source": [
    "# Data\n",
    "The data used throughout the our project includes the following:\n",
    "\n",
    "- [Jigsaw toxic comment classification challenge (Data)](https://www.kaggle.com/c/jigsaw-toxic-comment-classification-challenge/data)\n",
    "\n",
    "  - The training dataset provided by Jigsaw contains 160k of Wikipedia comments classified as toxic, severe_toxic, obscene, threat, insult, or identity_hate via crowdsourcing\n",
    "The test set contains 153k comments"
   ]
  },
  {
   "cell_type": "markdown",
   "metadata": {
    "colab_type": "text",
    "id": "L-gPlv-Wt7aQ"
   },
   "source": [
    "Here are examples of the different labels from the data set:"
   ]
  },
  {
   "cell_type": "code",
   "execution_count": 0,
   "metadata": {
    "colab": {
     "base_uri": "https://localhost:8080/",
     "height": 598
    },
    "colab_type": "code",
    "id": "7P1gtCDBKV8F",
    "outputId": "f2f40c50-4ca9-4d6d-abc7-4d484b3a8f17"
   },
   "outputs": [
    {
     "name": "stdout",
     "output_type": "stream",
     "text": [
      "\n",
      "toxic - comment sample :\n",
      "DMacks and DavidWS 3 words, GO FUCK YOURSELVES !!!!!!!!!!!!!!!!!!!!!!!!!!!!!!\n",
      "\n",
      "--------------------------------------------------\n",
      "\n",
      "severe_toxic - comment sample :\n",
      "Suck my fattie you cunt piece of shit. Blow your warning out your ass.\n",
      "\n",
      "--------------------------------------------------\n",
      "\n",
      "obscene - comment sample :\n",
      "u guys are fucking morrons\n",
      "\n",
      "--------------------------------------------------\n",
      "\n",
      "threat - comment sample :\n",
      "quick thing mate \n",
      "\n",
      "Give me a couple of reasons NOT to kill you plz. btw this is a shared IP adress on a school computer so don't even bother responding,\n",
      "\n",
      "--------------------------------------------------\n",
      "\n",
      "insult - comment sample :\n",
      "SuperMarioMan is a fuckass!\n",
      "You are a stupid motherf**ker! Ravioli DOES INDEED cause diarrhea!  Look it up!!!!!  HEED MY WARNING!!!!!!!!!!!!!!!!!!!\n",
      "\n",
      "--------------------------------------------------\n",
      "\n",
      "identity_hate - comment sample :\n",
      "THE FUKKING RETARDO RACISTO KANUCK\n",
      "\n",
      "--------------------------------------------------\n"
     ]
    }
   ],
   "source": [
    "import random\n",
    "for label in list_classes:\n",
    "    label_df = train[train[label]==1].reset_index(drop = 1)\n",
    "    print('\\n' + label + ' - comment sample :')\n",
    "    print(label_df.loc[random.randint(0, len(label_df)-1), 'comment_text'])\n",
    "    print('\\n' + '-'*50)"
   ]
  },
  {
   "cell_type": "markdown",
   "metadata": {
    "colab_type": "text",
    "id": "829bGWY8iAdp"
   },
   "source": [
    "-  Augmented test data can be found in a file in our gitlab named test_with_augmentation.csv which is under the **/project/input/jigsaw-toxic-comment-classification-challenge** directory \n"
   ]
  },
  {
   "cell_type": "markdown",
   "metadata": {
    "colab_type": "text",
    "id": "DU1OKzD7iDki"
   },
   "source": [
    "- [GloVe pre-trained word vectors](http://nlp.stanford.edu/data/glove.6B.zip)"
   ]
  },
  {
   "cell_type": "markdown",
   "metadata": {
    "colab_type": "text",
    "id": "VcyES_OR8H1O"
   },
   "source": [
    "# Code"
   ]
  },
  {
   "cell_type": "markdown",
   "metadata": {
    "colab_type": "text",
    "id": "PocJpIoDFuJH"
   },
   "source": [
    "Our baseline code is based on this [kernel](https://www.kaggle.com/jhoward/improved-lstm-baseline-glove-dropout), we found on kaggle. \n",
    "\n",
    "We also used a numpy implementation of the \"character level representation of the word\" method used in our __Homework 3: Robust Phrasal Chunking__ solution:"
   ]
  },
  {
   "cell_type": "code",
   "execution_count": 0,
   "metadata": {
    "colab": {},
    "colab_type": "code",
    "id": "aoXhHaX1nktB"
   },
   "outputs": [],
   "source": [
    "def char_level_rep(word):\n",
    "  \"\"\"\n",
    "  Generate the character level representation vectors for an input word\n",
    "  :param word: Word to get character level representation vectors generated\n",
    "  \"\"\"\n",
    "  # find the 300 dimensions for each word in a sentence\n",
    "  chars = string.printable\n",
    "  # Create vectors\n",
    "  v1 = np.zeros(len(chars))\n",
    "  v2 = np.zeros(len(chars))\n",
    "  v3 = np.zeros(len(chars))\n",
    "\n",
    "  for w in word:\n",
    "      for i, c in enumerate(chars):\n",
    "          if w == c:\n",
    "              # Create vector where the index of a character has the count of that character in the word\n",
    "              v2[i] = v2[i] + 1\n",
    "\n",
    "  for i, char in enumerate(chars):\n",
    "      if word[0] == char:\n",
    "          # Create the one-hot vector for the first character of the word\n",
    "          v1[i] = 1\n",
    "      if word[len(word) - 1] == char:\n",
    "          # Create a one-hot vector for the last character of the word\n",
    "          v3[i] = 1\n",
    "\n",
    "  # 300 dimentions for each word in a sentence\n",
    "  vector_rep = np.concatenate((v1, v2, v3))  # 300\n",
    "\n",
    "  return vector_rep  # 300"
   ]
  },
  {
   "cell_type": "markdown",
   "metadata": {
    "colab_type": "text",
    "id": "I2Hsafb2_D-x"
   },
   "source": [
    "# Experimental Setup\n",
    "\n",
    "__Important Notice__: Our model has been run and tested on google colab ( The only extra required package is the \"nlpaug\")"
   ]
  },
  {
   "cell_type": "markdown",
   "metadata": {
    "colab_type": "text",
    "id": "16sM5IN_BamK"
   },
   "source": [
    "All the accuracy measurements are done using Kaggle’s mean column-wise ROC AUC metric.\n"
   ]
  },
  {
   "cell_type": "markdown",
   "metadata": {
    "_cell_guid": "f1aeec65-356e-4430-b99d-bb516ec90b09",
    "_uuid": "237345510bd2e664b5c6983a698d80bac2732bc4",
    "colab_type": "text",
    "id": "Ka1_xMucKV7O"
   },
   "source": [
    "We used a simple Bidirectional LSTM Model with two fully connected layers: "
   ]
  },
  {
   "cell_type": "code",
   "execution_count": 0,
   "metadata": {
    "colab": {
     "base_uri": "https://localhost:8080/",
     "height": 391
    },
    "colab_type": "code",
    "id": "Bi77wvvQ0MF0",
    "outputId": "f9201da0-2a24-4c0c-90f9-24ff1707116c"
   },
   "outputs": [
    {
     "name": "stdout",
     "output_type": "stream",
     "text": [
      "Model: \"sequential_3\"\n",
      "_________________________________________________________________\n",
      "Layer (type)                 Output Shape              Param #   \n",
      "=================================================================\n",
      "embedding_3 (Embedding)      (None, 100, 350)          7000000   \n",
      "_________________________________________________________________\n",
      "bidirectional_3 (Bidirection (None, 100, 100)          160800    \n",
      "_________________________________________________________________\n",
      "global_max_pooling1d_3 (Glob (None, 100)               0         \n",
      "_________________________________________________________________\n",
      "dropout_5 (Dropout)          (None, 100)               0         \n",
      "_________________________________________________________________\n",
      "dense_5 (Dense)              (None, 50)                5050      \n",
      "_________________________________________________________________\n",
      "dropout_6 (Dropout)          (None, 50)                0         \n",
      "_________________________________________________________________\n",
      "dense_6 (Dense)              (None, 6)                 306       \n",
      "=================================================================\n",
      "Total params: 7,166,156\n",
      "Trainable params: 7,166,156\n",
      "Non-trainable params: 0\n",
      "_________________________________________________________________\n"
     ]
    }
   ],
   "source": [
    "model = Sequential()\n",
    "\n",
    "model.add(Embedding(max_features, embed_size, weights=[embedding_matrix],input_shape=(maxlen,)))\n",
    "model.add(Bidirectional(CuDNNLSTM(50, return_sequences=True))) # For running on GPU\n",
    "model.add(GlobalMaxPool1D())\n",
    "model.add(Dropout(0.15))\n",
    "model.add(Dense(50, activation=\"relu\"))\n",
    "model.add(Dropout(0.15))\n",
    "model.add(Dense(6, activation=\"sigmoid\"))\n",
    "\n",
    "sgd_opt = optimizers.SGD(lr=0.01, momentum=0.0, nesterov=False)\n",
    "\n",
    "model.compile(loss='binary_crossentropy', optimizer=sgd_opt, metrics=['accuracy'])\n",
    "model.summary()"
   ]
  },
  {
   "cell_type": "markdown",
   "metadata": {
    "colab_type": "text",
    "id": "savgJrK2i3R8"
   },
   "source": [
    "The denoising weights added to our training model improved our accuracy by 2%\n",
    "\n",
    "Since the training accuracy was really high (96.36% after only 2 epochs), The model was overfitting the training set so we added  two dropout layers (each with ratings of 0.15). This improved our accuracy score by about 0.5%.\n",
    "\n",
    "  "
   ]
  },
  {
   "cell_type": "markdown",
   "metadata": {
    "colab_type": "text",
    "id": "p2qaf_9or1v5"
   },
   "source": [
    "##### Denoising Implementation:\n",
    "- While iterating through the word index to create the embedding_matrix (i.e. matrix containing the weights used for our model's input layer):\n",
    "  1. Run that word through the __augment_text_ocr__ function to get the noisy representation of the word (e.g. \"bitch\" ==> \"'6itch'\")\n",
    "  3. Give the noisy word to __char_level_rep__ function to get the 300-dimension one-hot vector\n",
    "  3. Concatenate the one_hot vectors to GloVe embeddings to create the embedding_matrix)\n",
    "\n",
    "-  Adjust the first layer of the model based on the new dimension size \n",
    "\n"
   ]
  },
  {
   "cell_type": "markdown",
   "metadata": {
    "colab_type": "text",
    "id": "AAPhkAuU_FwR"
   },
   "source": [
    "# Results\n"
   ]
  },
  {
   "cell_type": "markdown",
   "metadata": {
    "colab_type": "text",
    "id": "IW0_Yw3pl2B_"
   },
   "source": [
    "- Playing around with hyperparameters:\n",
    "  - After a lot of trial and error, the best learning rate we found was 0.01. Larger learning rate would lead to the model not converging\n",
    "  - Even though the industry standard optimizer is apparently \"adam\", switching to stochastic gradient descent (i.e. \"SGD\") improved our accuracy by about 0.5% (Having said that, we suspect that this might be an accidental improvement on our the prediction accuracy)\n",
    "  "
   ]
  },
  {
   "cell_type": "markdown",
   "metadata": {
    "colab_type": "text",
    "id": "W0uo3NSP_Nn6"
   },
   "source": [
    "# Analysis of the Results"
   ]
  },
  {
   "cell_type": "markdown",
   "metadata": {
    "colab_type": "text",
    "id": "eHNVj6uqBw6x"
   },
   "source": [
    "Yes we were able to improve the baseline from 68.5% to 71.5%."
   ]
  },
  {
   "cell_type": "markdown",
   "metadata": {
    "colab_type": "text",
    "id": "vEB0oYiAvQWo"
   },
   "source": [
    "The following code/heatmap shows the correlation between each of the 6 labels and how likely they would occur in the same comment together. For instance, labels \"obscene\" and \"insult\" are often seen together; whereas, \"identity_hate\" and \"threat\" rarely happen in the same comment."
   ]
  },
  {
   "cell_type": "code",
   "execution_count": 0,
   "metadata": {
    "colab": {
     "base_uri": "https://localhost:8080/",
     "height": 481
    },
    "colab_type": "code",
    "id": "ZvhIrLDkKV7_",
    "outputId": "38d94469-248e-48b8-b2b7-bdb446bfa02f"
   },
   "outputs": [
    {
     "data": {
      "text/plain": [
       "(6.0, 0.0)"
      ]
     },
     "execution_count": 51,
     "metadata": {
      "tags": []
     },
     "output_type": "execute_result"
    },
    {
     "data": {
      "image/png": "[encoded data removed]",
      "text/plain": [
       "<Figure size 504x504 with 2 Axes>"
      ]
     },
     "metadata": {
      "tags": []
     },
     "output_type": "display_data"
    }
   ],
   "source": [
    "from matplotlib import pyplot as plt\n",
    "%matplotlib inline\n",
    "import seaborn as sns\n",
    "data = train[list_classes]\n",
    "colormap = plt.cm.plasma\n",
    "plt.figure(figsize=(7,7))\n",
    "\n",
    "plt.title('Correlation of features & targets',y=1.1,size=14)\n",
    "\n",
    "ax = sns.heatmap(data.astype(float).corr(),linewidths=0.1,vmax=1.0,square=True,cmap='RdYlGn',\n",
    "           linecolor='white',annot=True)\n",
    "bottom, top = ax.get_ylim()\n",
    "ax.set_ylim(bottom + 0.5, top - 0.5)\n"
   ]
  },
  {
   "cell_type": "markdown",
   "metadata": {
    "colab_type": "text",
    "id": "YtCl6Ssq_R-I"
   },
   "source": [
    "# Future Work\n"
   ]
  },
  {
   "cell_type": "markdown",
   "metadata": {
    "colab_type": "text",
    "id": "7RsCWwjECzks"
   },
   "source": [
    "The original plan for this project was to use a different data set with noise on the baseline model than the data set provided. We found a series of data sets that we could have used. However, the data sets were not labelled with the same labels the kaggle data set had. Which meant that we would have to manually add the labels to the new data set. It would have been too time consuming to complete this task this semester. We decided that this could be a  \n",
    "If we had more time, We would create a different \"denoising\" model that cleans up the test set at which point we could feed the clean test set into our model trained on clean train sets."
   ]
  },
  {
   "cell_type": "code",
   "execution_count": 0,
   "metadata": {
    "colab": {},
    "colab_type": "code",
    "id": "Yna8MDmRqczl"
   },
   "outputs": [],
   "source": []
  }
 ],
 "metadata": {
  "accelerator": "GPU",
  "colab": {
   "collapsed_sections": [],
   "name": "project_google_colab.ipynb",
   "provenance": [],
   "toc_visible": true
  },
  "kernelspec": {
   "display_name": "Python 3",
   "language": "python",
   "name": "python3"
  },
  "language_info": {
   "codemirror_mode": {
    "name": "ipython",
    "version": 3
   },
   "file_extension": ".py",
   "mimetype": "text/x-python",
   "name": "python",
   "nbconvert_exporter": "python",
   "pygments_lexer": "ipython3",
   "version": "3.7.2"
  }
 },
 "nbformat": 4,
 "nbformat_minor": 1
}
